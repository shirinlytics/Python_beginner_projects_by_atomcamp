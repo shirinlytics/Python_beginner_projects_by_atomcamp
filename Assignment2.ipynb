{
 "cells": [
  {
   "cell_type": "markdown",
   "id": "6c113f28",
   "metadata": {},
   "source": [
    "# Assignment 2 - Python"
   ]
  },
  {
   "cell_type": "markdown",
   "id": "57e0fa2e",
   "metadata": {},
   "source": [
    "## Task 1 : A Simple guessing game!"
   ]
  },
  {
   "cell_type": "code",
   "execution_count": 3,
   "id": "bfd170b9",
   "metadata": {},
   "outputs": [
    {
     "name": "stdout",
     "output_type": "stream",
     "text": [
      "Welcome to the Guessing Game!\n",
      "Guess the secret number \n",
      "You have 5 attempts left: abc\n",
      "Invalid input!\n",
      "Please enter a valid number\n",
      "Guess the secret number \n",
      "You have 5 attempts left: 35\n",
      "Try again! Your guess is too low \n",
      "You have 4 attempts left\n",
      "Guess the secret number \n",
      "You have 4 attempts left: 45\n",
      "Try again! Your guess is too low \n",
      "You have 3 attempts left\n",
      "Guess the secret number \n",
      "You have 3 attempts left: 49\n",
      "Try again! Your guess is too High \n",
      "You have 2 attempts left\n",
      "Guess the secret number \n",
      "You have 2 attempts left: 48\n",
      "Try again! Your guess is too High \n",
      "You have 1 attempts left\n",
      "Guess the secret number \n",
      "You have 1 attempts left: 47\n",
      "Congratulations! You guessed the secret number 47 correctly!\n"
     ]
    }
   ],
   "source": [
    "from random import randint\n",
    "secret_num = randint(1, 50)\n",
    "attempts_left = 5\n",
    "\n",
    "print(\"Welcome to the Guessing Game!\")\n",
    "\n",
    "while attempts_left > 0:\n",
    "    try:\n",
    "        guess = int(input(f\"Guess the secret number \\nYou have {attempts_left} attempts left: \"))\n",
    "        \n",
    "        if guess == str:\n",
    "            print(\"Invalid input! \\nPlease enter a valid number\")\n",
    "            continue\n",
    "        \n",
    "        if guess == secret_num:\n",
    "            print(f\"Congratulations! You guessed the secret number {secret_num} correctly!\")\n",
    "            break\n",
    "        elif guess < secret_num:\n",
    "            print(f\"Try again! Your guess is too low \\nYou have {attempts_left-1} attempts left\")\n",
    "        else:\n",
    "            print(f\"Try again! Your guess is too High \\nYou have {attempts_left-1} attempts left\")\n",
    "        \n",
    "        attempts_left -= 1\n",
    "    except ValueError as str:\n",
    "        print(\"Invalid input!\\nPlease enter a valid number\")\n",
    "        continue\n",
    "\n",
    "if attempts_left == 0:\n",
    "    print(\"Game Over! The secret number was {secret_num}.  \\nBetter luck next time!\")"
   ]
  },
  {
   "cell_type": "markdown",
   "id": "a6338da7",
   "metadata": {},
   "source": [
    "## Task 2"
   ]
  },
  {
   "cell_type": "code",
   "execution_count": 4,
   "id": "199d10f4",
   "metadata": {},
   "outputs": [
    {
     "data": {
      "text/plain": [
       "10"
      ]
     },
     "execution_count": 4,
     "metadata": {},
     "output_type": "execute_result"
    }
   ],
   "source": [
    "#Checking Number of Vowels\n",
    "\n",
    "def num_vowels(string):\n",
    "    vowels = 'aeiou'\n",
    "    count = 0\n",
    "    for char in string:\n",
    "        if char in vowels:\n",
    "            count +=1\n",
    "        \n",
    "        \n",
    "    return count\n",
    "\n",
    "num_vowels(\"Learning Python is fun and engaging\")"
   ]
  },
  {
   "cell_type": "code",
   "execution_count": 5,
   "id": "b83b44f0",
   "metadata": {},
   "outputs": [
    {
     "data": {
      "text/plain": [
       "150.0"
      ]
     },
     "execution_count": 5,
     "metadata": {},
     "output_type": "execute_result"
    }
   ],
   "source": [
    "#Converting Hours into mins\n",
    "\n",
    "def hours_to_min(hours):\n",
    "     return hours * 60\n",
    "\n",
    "hours_to_min(2.5)"
   ]
  },
  {
   "cell_type": "code",
   "execution_count": 6,
   "id": "64ca7fef",
   "metadata": {},
   "outputs": [
    {
     "name": "stdout",
     "output_type": "stream",
     "text": [
      "1 * 8 = 8\n",
      "2 * 8 = 16\n",
      "3 * 8 = 24\n",
      "4 * 8 = 32\n",
      "5 * 8 = 40\n",
      "6 * 8 = 48\n",
      "7 * 8 = 56\n",
      "8 * 8 = 64\n",
      "9 * 8 = 72\n",
      "10 * 8 = 80\n",
      "11 * 8 = 88\n",
      "12 * 8 = 96\n"
     ]
    }
   ],
   "source": [
    "#Making a Table\n",
    "\n",
    "def  make_a_table(number):\n",
    "    for num2 in range(1,13):\n",
    "        print(num2,\"*\", number, \"=\", num2*number)\n",
    "      \n",
    "make_a_table(8)"
   ]
  },
  {
   "cell_type": "code",
   "execution_count": 7,
   "id": "f5884bff",
   "metadata": {},
   "outputs": [
    {
     "data": {
      "text/plain": [
       "True"
      ]
     },
     "execution_count": 7,
     "metadata": {},
     "output_type": "execute_result"
    }
   ],
   "source": [
    "#Check Eligibility \n",
    "\n",
    "def eligibility(age, cgpa):\n",
    "    if(age >= 18 and cgpa >= 3.0 and cgpa<=4.0):\n",
    "         return True\n",
    "    else:\n",
    "         return False\n",
    "     \n",
    "            \n",
    "\n",
    "eligibility(30,3.2)"
   ]
  },
  {
   "cell_type": "code",
   "execution_count": 8,
   "id": "dd6baf3f",
   "metadata": {},
   "outputs": [
    {
     "data": {
      "text/plain": [
       "False"
      ]
     },
     "execution_count": 8,
     "metadata": {},
     "output_type": "execute_result"
    }
   ],
   "source": [
    "#Check Eligibility with key words\n",
    "\n",
    "def eligibility(age, cgpa):\n",
    "    if(age >= 18 and cgpa >= 3.0 and cgpa<=4.0):\n",
    "         return True\n",
    "    else:\n",
    "         return False\n",
    "     \n",
    "            \n",
    "\n",
    "eligibility(cgpa =2.9 , age = 40)"
   ]
  },
  {
   "cell_type": "code",
   "execution_count": null,
   "id": "54dfd7fb",
   "metadata": {},
   "outputs": [],
   "source": []
  }
 ],
 "metadata": {
  "kernelspec": {
   "display_name": "Python 3 (ipykernel)",
   "language": "python",
   "name": "python3"
  },
  "language_info": {
   "codemirror_mode": {
    "name": "ipython",
    "version": 3
   },
   "file_extension": ".py",
   "mimetype": "text/x-python",
   "name": "python",
   "nbconvert_exporter": "python",
   "pygments_lexer": "ipython3",
   "version": "3.11.5"
  }
 },
 "nbformat": 4,
 "nbformat_minor": 5
}
