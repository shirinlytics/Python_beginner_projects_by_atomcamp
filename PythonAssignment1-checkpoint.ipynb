{
 "cells": [
  {
   "cell_type": "markdown",
   "id": "ae6d56e5",
   "metadata": {},
   "source": [
    "# Assignment: Python Basics"
   ]
  },
  {
   "cell_type": "markdown",
   "id": "9fe057fd",
   "metadata": {},
   "source": [
    "#### Task 1: Variables and Data Types"
   ]
  },
  {
   "cell_type": "code",
   "execution_count": 9,
   "id": "f441a95a",
   "metadata": {},
   "outputs": [
    {
     "name": "stdout",
     "output_type": "stream",
     "text": [
      "Age: 44 Name: Sharmeen Fatima Smith Student: False\n"
     ]
    }
   ],
   "source": [
    "#CreatingVariables \n",
    "age = 19     \n",
    "name = \"Sharmeen Fatima\"\n",
    "a_student = True\n",
    "#performingOperation\n",
    "age += 25\n",
    "name += \" Smith\"\n",
    "a_student = not a_student\n",
    "\n",
    "print(\"Age:\",age,\"Name:\" , name, \"Student:\" , a_student)\n"
   ]
  },
  {
   "cell_type": "markdown",
   "id": "0419eb4b",
   "metadata": {},
   "source": [
    "### Task 2 : Expressions and Operators"
   ]
  },
  {
   "cell_type": "code",
   "execution_count": 19,
   "id": "f5eaf0f7",
   "metadata": {},
   "outputs": [
    {
     "name": "stdout",
     "output_type": "stream",
     "text": [
      "Area of rectangle is: 17.875 square units\n",
      "Temperature in Fahrenheit is;  68.0 F\n",
      "Area of a circle is: 78.525\n"
     ]
    }
   ],
   "source": [
    "#Rectangle\n",
    "width = 5.5\n",
    "height = 3.25\n",
    "area_of_rect = width * height\n",
    "print(\"Area of rectangle is:\" , area_of_rect, 'square units')\n",
    "#Temperature \n",
    "T_in_celsius = 20\n",
    "Convert_in_fahrenheit = (T_in_celsius * 9/5) + 32\n",
    "T_in_fahrenheit = Convert_in_fahrenheit \n",
    "print( \"Temperature in Fahrenheit is; \" ,  T_in_fahrenheit , 'F')\n",
    "#Circle\n",
    "radius = 5\n",
    "pi = 3.141\n",
    "area = pi * radius ** 2\n",
    "print(\"Area of a circle is:\", area )\n",
    "\n"
   ]
  },
  {
   "cell_type": "markdown",
   "id": "7525a0db",
   "metadata": {},
   "source": [
    "### Task 3: Introduction to Data Structures\n"
   ]
  },
  {
   "cell_type": "code",
   "execution_count": 21,
   "id": "cf176bcc",
   "metadata": {},
   "outputs": [
    {
     "name": "stdout",
     "output_type": "stream",
     "text": [
      "['apple', 'banana', 'orange', 'grape', 'kiwi']\n",
      "('January', 'February', 'March')\n"
     ]
    }
   ],
   "source": [
    "#list\n",
    "fruits = [\"apple\",\"banana\" , \"orange\" , \"grape\" ,\"kiwi\"]\n",
    "print(fruits)\n",
    "#Tuple\n",
    "months = (\"January\", \"February\", \"March\")\n",
    "print(months)\n"
   ]
  },
  {
   "cell_type": "markdown",
   "id": "c976f27f",
   "metadata": {},
   "source": [
    "### Task 4: List Manipulation"
   ]
  },
  {
   "cell_type": "code",
   "execution_count": 33,
   "id": "f3babdf0",
   "metadata": {},
   "outputs": [
    {
     "name": "stdout",
     "output_type": "stream",
     "text": [
      "The sum of all numbers in the list is: 426 The average of numbers is : 53.25\n",
      "['banana', 'orange', 'grape']\n"
     ]
    }
   ],
   "source": [
    "numbers = [12, 34, 45, 67, 89, 100, 23, 56]\n",
    "count = len(numbers)\n",
    "total = sum(numbers) #SUM\n",
    "average = total/count #AVG\n",
    "print(\"The sum of all numbers in the list is:\", total , \"The average of numbers is :\" , average)\n",
    "#Remove the first and last elements from the \"fruits\" list created earlier. Print the updated list.\n",
    "fruits.remove(\"apple\")\n",
    "fruits.remove(\"kiwi\")\n",
    "print(fruits)\n",
    "\n"
   ]
  },
  {
   "cell_type": "markdown",
   "id": "dd13ef88",
   "metadata": {},
   "source": [
    "### Task 5: Dictionary Operations"
   ]
  },
  {
   "cell_type": "code",
   "execution_count": 34,
   "id": "2db6fac2",
   "metadata": {},
   "outputs": [
    {
     "name": "stdout",
     "output_type": "stream",
     "text": [
      "{'US': 'WashingtonDC', 'France': 'Paris', 'Japan': 'Tokyo'}\n",
      "{'US': 'WashingtonDC', 'France': 'Paris', 'Japan': 'Tokyo', 'Germany': 'Berlin'}\n",
      "France is in the dictionary\n"
     ]
    }
   ],
   "source": [
    "#CreateDictionary\n",
    "capitals = {'US':'WashingtonDC', 'France': 'Paris', 'Japan': 'Tokyo'}\n",
    "print(capitals)\n",
    "#AddCountry\n",
    "capitals['Germany'] = 'Berlin'\n",
    "print(capitals)\n",
    "#Check\n",
    "if 'France'in capitals:\n",
    "    print(\"France is in the dictionary\")\n",
    "else:\n",
    "    print(\"France is not in the dictionary\")"
   ]
  },
  {
   "cell_type": "markdown",
   "id": "1172c9a5",
   "metadata": {},
   "source": [
    "### Task 6: Comparison Operators, Logical Operators and If/Else:"
   ]
  },
  {
   "cell_type": "code",
   "execution_count": 37,
   "id": "904a0ca7",
   "metadata": {},
   "outputs": [
    {
     "name": "stdout",
     "output_type": "stream",
     "text": [
      "Enter Any number:2\n",
      "The number is even\n",
      "Eligible for admission\n"
     ]
    }
   ],
   "source": [
    "#Even/Odd\n",
    "number = int(input(\"Enter Any number:\"))\n",
    "if(number % 2 ==0):\n",
    "    print(\"The number is even\")\n",
    "else:\n",
    "    print(\"The number is odd\")\n",
    "#Eligible/NotEligible\n",
    "age = 19\n",
    "cgpa = 3.7\n",
    "if(age > 18 and cgpa >= 3.0):\n",
    "    print(\"Eligible for admission\")\n",
    "else:\n",
    "    print(\"Not eligible for admission\")\n"
   ]
  },
  {
   "cell_type": "markdown",
   "id": "ae622ced",
   "metadata": {},
   "source": [
    "### Task 7: Advanced Data Types"
   ]
  },
  {
   "cell_type": "code",
   "execution_count": 41,
   "id": "bc3fd3af",
   "metadata": {},
   "outputs": [
    {
     "name": "stdout",
     "output_type": "stream",
     "text": [
      "{'banana', 'kiwi', 'apple', 'grape', 'orange'}\n",
      "The union of two sets is {1, 2, 3, 4, 5, 6, 7}\n",
      "The intersection of two sets is {3, 4, 5}\n",
      "The difference between two sets is {1, 2}\n",
      "Is set 1 a subset of set 2? False\n"
     ]
    }
   ],
   "source": [
    "#Set\n",
    "fruits_set = {\"apple\" ,\"banana\" ,\"orange\" ,\"grape\",\"kiwi\"}\n",
    "print(fruits_set)\n",
    "#Twosets\n",
    "set1 = {1, 2, 3, 4, 5}\n",
    "set2 = {3, 4, 5, 6, 7}\n",
    "#operations\n",
    "union = set1 | set2\n",
    "print(\"The union of two sets is\", union)\n",
    "intersection = set1 & set2\n",
    "print(\"The intersection of two sets is\", intersection)\n",
    "difference = set1 - set2\n",
    "print(\"The difference between two sets is\", difference)\n",
    "subset = set1.issubset(set2)\n",
    "print(\"Is set 1 a subset of set 2?\", subset)\n"
   ]
  },
  {
   "cell_type": "markdown",
   "id": "b7ee295f",
   "metadata": {},
   "source": [
    "### Task 8: Strings Manipulation\n"
   ]
  },
  {
   "cell_type": "code",
   "execution_count": 48,
   "id": "24399557",
   "metadata": {},
   "outputs": [
    {
     "name": "stdout",
     "output_type": "stream",
     "text": [
      "39\n",
      "PYTHON PROGRAMMING IS FUN AND POWERFUL!\n",
      "Python programming is exciting and powerful!\n",
      "String contains the word Python \n",
      "['Python', 'programming', 'is', 'fun', 'and', 'powerful!']\n"
     ]
    }
   ],
   "source": [
    "string = \"Python programming is fun and powerful!\"\n",
    "length = len(string) #lengthofString\n",
    "print(length)\n",
    "print(string.upper())  #UpperCase\n",
    "#Replace\n",
    "oldstring1 = \"fun\"\n",
    "newstring1= \"exciting\"\n",
    "print(string.replace(oldstring1, newstring1))\n",
    "#Check\n",
    "if \"Python\" in string:\n",
    "    print(\"String contains the word Python \")\n",
    "else:\n",
    "    print(\"String does not contain the word Python\")\n",
    "\n",
    "#Split the string into a list of words\n",
    "print(string.split())\n",
    "    \n"
   ]
  },
  {
   "cell_type": "code",
   "execution_count": null,
   "id": "ad497930",
   "metadata": {},
   "outputs": [],
   "source": []
  }
 ],
 "metadata": {
  "kernelspec": {
   "display_name": "Python 3 (ipykernel)",
   "language": "python",
   "name": "python3"
  },
  "language_info": {
   "codemirror_mode": {
    "name": "ipython",
    "version": 3
   },
   "file_extension": ".py",
   "mimetype": "text/x-python",
   "name": "python",
   "nbconvert_exporter": "python",
   "pygments_lexer": "ipython3",
   "version": "3.11.5"
  }
 },
 "nbformat": 4,
 "nbformat_minor": 5
}
